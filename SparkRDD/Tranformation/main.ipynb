{
 "cells": [
  {
   "cell_type": "code",
   "execution_count": 1,
   "id": "c0cded78",
   "metadata": {},
   "outputs": [],
   "source": [
    "import re\n",
    "from pyspark import SparkContext, SparkConf\n",
    "from pyspark.sql import SparkSession\n",
    "from pyspark.sql.functions import col, udf\n",
    "from pyspark.sql.types import StringType, ArrayType\n",
    "\n",
    "# Setup\n",
    "conf = SparkConf().setAppName(\"DE-103\").setMaster(\"local[*]\").set(\"spark.executor.memory\", \"1g\")\n",
    "sc = SparkContext(conf=conf)\n",
    "sc.setLogLevel(\"OFF\")\n",
    "spark = SparkSession(sc)\n"
   ]
  },
  {
   "cell_type": "code",
   "execution_count": null,
   "id": "e207b99e",
   "metadata": {},
   "outputs": [],
   "source": [
    "# Hàm làm sạch\n",
    "def clean_data(s: str) -> list:\n",
    "    s = re.sub(r\"[^0-9]\", \" \", s)\n",
    "    ls = s.split()\n",
    "\n",
    "    if len(ls[0]) == 4:\n",
    "        ls = ls[::-1]\n",
    "\n",
    "    return ls\n",
    "\n",
    "# Dữ liệu mẫu\n",
    "a = [['2012 *)() 12 -/*& 06'],\n",
    "    ['01 *&^ 09 ***((((* 2019'],\n",
    "    ['*&^%$ 15 08 2021 !@#'],\n",
    "    ['2020 11 ##$$%% 25 ^^&*'],\n",
    "    ['03 @@## 05 2017'],\n",
    "    ['09 *(() 12 2020'],\n",
    "    ['18 &&^%$# 07 2022'],\n",
    "    ['2018 ()*& 04 %%$# 02'],\n",
    "    ['12 06 @!#@#%$^ 2016'],\n",
    "    ['1999 ((( 01 09'],\n",
    "    ['21 @@ 03 2005'],\n",
    "    ['04 07 2010 @@@'],\n",
    "    ['2015 10 ##@@@ 08'],\n",
    "    ['(()) 06 02 2014'],\n",
    "    ['13 !@# 11 2011'],\n",
    "    ['2013 %%$$ 09 01'],\n",
    "    ['07 (**) 04 2012'],\n",
    "    ['05 ## 12 2007'],\n",
    "    ['19 01 2000 **&^'],\n",
    "    ['2002 @@@ 08 07']]\n",
    "\n",
    "# Tạo dataframe\n",
    "df = spark.createDataFrame(data=a, schema=['Date origin'])\n",
    "\n",
    "# Tạo hàm\n",
    "clean_data_udf = udf(clean_data, ArrayType(StringType()))\n",
    "\n",
    "# Tạo cột mẫu xử lý chung để các cột sau lấy data từ cột này, giúp tối ưu bộ nhớ\n",
    "df = df.withColumn('cleaned', clean_data_udf(col('Date origin')))\n",
    "\n",
    "df = df.withColumn('Day', col('cleaned').getItem(0)) \\\n",
    "       .withColumn('Month', col('cleaned').getItem(1)) \\\n",
    "       .withColumn('Year',  col('cleaned').getItem(2)) \\\n",
    "       # .drop('cleaned')\n",
    "\n",
    "df.show(truncate=False)"
   ]
  }
 ],
 "metadata": {
  "kernelspec": {
   "display_name": "Python 3",
   "language": "python",
   "name": "python3"
  },
  "language_info": {
   "codemirror_mode": {
    "name": "ipython",
    "version": 3
   },
   "file_extension": ".py",
   "mimetype": "text/x-python",
   "name": "python",
   "nbconvert_exporter": "python",
   "pygments_lexer": "ipython3",
   "version": "3.10.13"
  }
 },
 "nbformat": 4,
 "nbformat_minor": 5
}
